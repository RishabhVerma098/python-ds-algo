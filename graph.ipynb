{
  "nbformat": 4,
  "nbformat_minor": 0,
  "metadata": {
    "colab": {
      "name": "graph.ipynb",
      "provenance": [],
      "collapsed_sections": [],
      "authorship_tag": "ABX9TyMGtmOs2uYn1/gSE4a1ULT8",
      "include_colab_link": true
    },
    "kernelspec": {
      "name": "python3",
      "display_name": "Python 3"
    }
  },
  "cells": [
    {
      "cell_type": "markdown",
      "metadata": {
        "id": "view-in-github",
        "colab_type": "text"
      },
      "source": [
        "<a href=\"https://colab.research.google.com/github/RishabhVerma098/python-ds-algo/blob/graph/graph.ipynb\" target=\"_parent\"><img src=\"https://colab.research.google.com/assets/colab-badge.svg\" alt=\"Open In Colab\"/></a>"
      ]
    },
    {
      "cell_type": "markdown",
      "metadata": {
        "id": "HIP1fWtVeP-2",
        "colab_type": "text"
      },
      "source": [
        "# Graph in python\n"
      ]
    },
    {
      "cell_type": "markdown",
      "metadata": {
        "id": "EyMejwq1eZLE",
        "colab_type": "text"
      },
      "source": [
        "#### CREATION , ADDTION , DELETTION using Adjancy list method\n"
      ]
    },
    {
      "cell_type": "code",
      "metadata": {
        "id": "VHkue5J8ejus",
        "colab_type": "code",
        "colab": {}
      },
      "source": [
        "#for degree just give length of a key\n",
        "#By default undirected ,set is_directed to true for directed graph\n",
        "class Graph:\n",
        "  def __init__(self,nodes,is_directed=False):\n",
        "    self.nodes = nodes\n",
        "    self.adj_list = {}\n",
        "    self.is_directed = is_directed\n",
        "    for i in nodes:\n",
        "      self.adj_list[i] = []\n",
        "\n",
        "  def add_node(self,node_to_attach_with,node_to_attach_to):\n",
        "    self.adj_list[node_to_attach_with].append(node_to_attach_to)\n",
        "    if not self.is_directed:\n",
        "      self.adj_list[node_to_attach_to].append(node_to_attach_with)\n",
        "\n",
        "  def delete_node(self,node):\n",
        "    self.nodes.remove(node)\n",
        "    self.adj_list.pop(node)\n",
        "    for i  in self.adj_list:\n",
        "      if node in self.adj_list[i]:\n",
        "        self.adj_list[i].remove(node)\n",
        "        \n",
        "  def print_adj_list(self):\n",
        "    for node in self.nodes:\n",
        "      print(node , \"->\" , self.adj_list[node])"
      ],
      "execution_count": null,
      "outputs": []
    },
    {
      "cell_type": "code",
      "metadata": {
        "id": "UiIJuot5ezsm",
        "colab_type": "code",
        "colab": {
          "base_uri": "https://localhost:8080/",
          "height": 86
        },
        "outputId": "f71df04b-78dd-4951-9387-14ac1c7cbd59"
      },
      "source": [
        "graph = Graph([\"A\",\"B\",\"C\",\"D\",\"E\"])\n",
        "graph.add_node(\"A\",\"B\")\n",
        "graph.add_node(\"A\",\"C\")\n",
        "graph.add_node(\"B\",\"D\")\n",
        "graph.add_node(\"C\",\"D\")\n",
        "graph.add_node(\"D\",\"E\")\n",
        "graph.add_node(\"E\",\"C\")\n",
        "graph.delete_node(\"D\")\n",
        "graph.print_adj_list()"
      ],
      "execution_count": null,
      "outputs": [
        {
          "output_type": "stream",
          "text": [
            "A -> ['B', 'C']\n",
            "B -> ['A']\n",
            "C -> ['A', 'E']\n",
            "E -> ['C']\n"
          ],
          "name": "stdout"
        }
      ]
    },
    {
      "cell_type": "markdown",
      "metadata": {
        "id": "kby5Iio9fH1c",
        "colab_type": "text"
      },
      "source": [
        "#### BFS"
      ]
    },
    {
      "cell_type": "code",
      "metadata": {
        "id": "IHWKIbAmfLew",
        "colab_type": "code",
        "colab": {}
      },
      "source": [
        ""
      ],
      "execution_count": null,
      "outputs": []
    }
  ]
}